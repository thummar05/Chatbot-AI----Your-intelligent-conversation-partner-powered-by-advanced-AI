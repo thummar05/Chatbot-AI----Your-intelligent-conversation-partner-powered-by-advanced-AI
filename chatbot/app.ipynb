{
 "cells": [
  {
   "cell_type": "code",
   "execution_count": 65,
   "id": "bca20a7b",
   "metadata": {},
   "outputs": [
    {
     "data": {
      "text/plain": [
       "AIMessage(content=\"I am LLaMA, an AI assistant developed by Meta AI that can understand and respond to human input in a conversational manner. I'm not a human, but a computer program designed to simulate conversation, answer questions, and even generate text based on the input I receive.\\n\\nI'm a large language model, which means I've been trained on a massive dataset of text from various sources, including books, articles, and online conversations. This training enables me to understand and respond to a wide range of topics and questions.\\n\\nI'm here to help, inform, and even entertain you. So, feel free to ask me anything, and I'll do my best to provide a helpful and accurate response!\", additional_kwargs={}, response_metadata={'token_usage': {'completion_tokens': 142, 'prompt_tokens': 14, 'total_tokens': 156, 'completion_time': 0.405714286, 'prompt_time': 0.000196886, 'queue_time': 0.048992727, 'total_time': 0.405911172}, 'model_name': 'llama3-70b-8192', 'system_fingerprint': 'fp_dd4ae1c591', 'finish_reason': 'stop', 'logprobs': None}, id='run--2b034941-73f7-46d2-8968-7735dc812100-0', usage_metadata={'input_tokens': 14, 'output_tokens': 142, 'total_tokens': 156})"
      ]
     },
     "execution_count": 65,
     "metadata": {},
     "output_type": "execute_result"
    }
   ],
   "source": [
    "from typing import TypedDict, Annotated, Optional\n",
    "from langgraph.graph import add_messages,StateGraph, END\n",
    "from langchain_community.tools.tavily_search import TavilySearchResults\n",
    "from langchain_community.utilities import SearxSearchWrapper\n",
    "from dotenv import load_dotenv\n",
    "from langgraph.checkpoint.memory import MemorySaver\n",
    "from langchain_community.utilities import GoogleSerperAPIWrapper\n",
    "from langchain_google_genai import ChatGoogleGenerativeAI\n",
    "from uuid import uuid4\n",
    "from langchain_core.tools import Tool\n",
    "from langchain_core.tools import tool\n",
    "from langchain_groq import ChatGroq\n",
    "import json\n",
    "\n",
    "load_dotenv()\n",
    "\n",
    "model = ChatGroq(\n",
    "    model=\"llama3-70b-8192\",\n",
    "    temperature=0.1,\n",
    ")\n",
    "\n",
    "response = model.invoke(\"who are you?\")\n",
    "response"
   ]
  },
  {
   "cell_type": "code",
   "execution_count": 66,
   "id": "8ccb5c03",
   "metadata": {},
   "outputs": [],
   "source": [
    "search_tool_instance = TavilySearchResults(max_results=2)\n",
    "search_tool = Tool.from_function(\n",
    "    func=search_tool_instance.run,\n",
    "    name=\"tavily_search_results_json\",\n",
    "    description=\"Search the web using Tavily and return top results.\"\n",
    ")\n",
    "tools = [search_tool]\n",
    "memory = MemorySaver()\n"
   ]
  },
  {
   "cell_type": "code",
   "execution_count": 67,
   "id": "bcd197ac",
   "metadata": {},
   "outputs": [],
   "source": [
    "llm_with_tools = model.bind_tools(tools=[search_tool])\n",
    "\n"
   ]
  },
  {
   "cell_type": "code",
   "execution_count": 69,
   "id": "9aa1bc54",
   "metadata": {},
   "outputs": [
    {
     "data": {
      "text/plain": [
       "AIMessage(content='', additional_kwargs={'tool_calls': [{'id': 'call_fpws', 'function': {'arguments': '{\"__arg1\":\"Junagadh weather\"}', 'name': 'tavily_search_results_json'}, 'type': 'function'}]}, response_metadata={'token_usage': {'completion_tokens': 52, 'prompt_tokens': 907, 'total_tokens': 959, 'completion_time': 0.180907214, 'prompt_time': 0.029639476, 'queue_time': 0.049975536, 'total_time': 0.21054669}, 'model_name': 'llama3-70b-8192', 'system_fingerprint': 'fp_dd4ae1c591', 'finish_reason': 'tool_calls', 'logprobs': None}, id='run--74aa73d5-3b9d-407c-8eac-8073bac60146-0', tool_calls=[{'name': 'tavily_search_results_json', 'args': {'__arg1': 'Junagadh weather'}, 'id': 'call_fpws', 'type': 'tool_call'}], usage_metadata={'input_tokens': 907, 'output_tokens': 52, 'total_tokens': 959})"
      ]
     },
     "execution_count": 69,
     "metadata": {},
     "output_type": "execute_result"
    }
   ],
   "source": [
    "llm_with_tools.invoke(\"what is the weather today in Junagadh?\")"
   ]
  },
  {
   "cell_type": "code",
   "execution_count": 71,
   "id": "3876d085",
   "metadata": {},
   "outputs": [
    {
     "data": {
      "image/png": "[encoded data removed]",
      "text/plain": [
       "<langgraph.graph.state.CompiledStateGraph object at 0x000002A5D5DB2250>"
      ]
     },
     "execution_count": 71,
     "metadata": {},
     "output_type": "execute_result"
    }
   ],
   "source": [
    "from langchain_core.messages import AIMessage, HumanMessage, ToolMessage\n",
    "from langgraph.prebuilt import ToolNode\n",
    "\n",
    "class State(TypedDict):\n",
    "    messages: Annotated[list, add_messages]\n",
    "\n",
    "async def model(state: State):\n",
    "    result = await llm_with_tools.ainvoke(state[\"messages\"])\n",
    "    return {\n",
    "        \"messages\": [result], \n",
    "    }\n",
    "\n",
    "async def tools_router(state: State):\n",
    "    last_message = state[\"messages\"][-1]\n",
    "\n",
    "    if(hasattr(last_message, \"tool_calls\") and len(last_message.tool_calls) > 0):\n",
    "        return \"tool_node\"\n",
    "    else: \n",
    "        return \"end\"\n",
    "    \n",
    "tool_node = ToolNode(tools=tools)\n",
    "\n",
    "graph_builder = StateGraph(State)\n",
    "\n",
    "graph_builder.add_node(\"model\", model)\n",
    "graph_builder.add_node(\"tool_node\", tool_node)\n",
    "graph_builder.set_entry_point(\"model\")\n",
    "\n",
    "graph_builder.add_conditional_edges(\n",
    "    \"model\",\n",
    "    tools_router,\n",
    "    {\n",
    "        \"tool_node\":\"tool_node\",\n",
    "        \"end\":END\n",
    "    })\n",
    "graph_builder.add_edge(\"tool_node\", \"model\")\n",
    "\n",
    "graph = graph_builder.compile(checkpointer=memory)\n",
    "graph"
   ]
  },
  {
   "cell_type": "code",
   "execution_count": 72,
   "id": "f81c0449",
   "metadata": {},
   "outputs": [
    {
     "data": {
      "text/plain": [
       "{'messages': [HumanMessage(content='When is the next spaceX launch?', additional_kwargs={}, response_metadata={}, id='81673733-e685-4dfc-99f9-72af02fd8804'),\n",
       "  AIMessage(content='', additional_kwargs={'tool_calls': [{'id': 'call_h0av', 'function': {'arguments': '{\"__arg1\":\"SpaceX launch schedule\"}', 'name': 'tavily_search_results_json'}, 'type': 'function'}]}, response_metadata={'token_usage': {'completion_tokens': 53, 'prompt_tokens': 905, 'total_tokens': 958, 'completion_time': 0.152692992, 'prompt_time': 0.036883185, 'queue_time': 0.050817984999999996, 'total_time': 0.189576177}, 'model_name': 'llama3-70b-8192', 'system_fingerprint': 'fp_dd4ae1c591', 'finish_reason': 'tool_calls', 'logprobs': None}, id='run--b0595f6c-9548-4753-bfc4-bc563f865a31-0', tool_calls=[{'name': 'tavily_search_results_json', 'args': {'__arg1': 'SpaceX launch schedule'}, 'id': 'call_h0av', 'type': 'tool_call'}], usage_metadata={'input_tokens': 905, 'output_tokens': 53, 'total_tokens': 958}),\n",
       "  ToolMessage(content='[{\"title\": \"Space Launch Schedule & Live Videos: Stream Rockets Launches\", \"url\": \"https://www.spacelaunchschedule.com/\", \"content\": \"[Starlink Group 12-25Falcon 9 Block 5 ------------------------------------](https://www.spacelaunchschedule.com/launch/falcon-9-block-5-starlink-group-12-25/)\\\\n\\\\n### SpaceX\\\\n\\\\nIn-Flight\\\\n\\\\nTue • Mar 18th, 2025  \\\\n7:57 PM - 10:40 PM UTC\\\\n\\\\nCape Canaveral SFS, FL, USA\\\\n\\\\n[](https://www.spacelaunchschedule.com/launch/falcon-9-block-5-nrol-57/)\\\\n\\\\n[NROL-57Falcon 9 Block 5 -----------------------](https://www.spacelaunchschedule.com/launch/falcon-9-block-5-nrol-57/)\\\\n\\\\n### SpaceX\\\\n\\\\nDate/Time May Change [...] Cape Canaveral SFS, FL, USA\\\\n\\\\n[](https://www.spacelaunchschedule.com/launch/falcon-9-block-5-starlink-group-11-7/)\\\\n\\\\n[Starlink Group 11-7Falcon 9 Block 5 -----------------------------------](https://www.spacelaunchschedule.com/launch/falcon-9-block-5-starlink-group-11-7/)\\\\n\\\\n### SpaceX\\\\n\\\\nDate/Time May Change\\\\n\\\\nMon • Mar 24th, 2025  \\\\n10:00 PM - 2:22 AM UTC\\\\n\\\\nVandenberg SFB, CA, USA\\\\n\\\\n[](https://www.spacelaunchschedule.com/launch/falcon-9-block-5-fram2/)\", \"score\": 0.8765607}, {\"title\": \"SpaceX Launch Schedule - RocketLaunch.org\", \"url\": \"https://rocketlaunch.org/launch-schedule/spacex\", \"content\": \"[All Scheduled Launches](https://rocketlaunch.org/launch-schedule)SpaceX\\\\n\\\\nNext Launch\\\\n\\\\n[Falcon 9 Block 5 | Starlink Group 11-18](https://rocketlaunch.org/mission-falcon-9-block-5-starlink-group-11-18)\\\\n\\\\n![Image 1: Mission patch Space X Starlink Mission Patch](https://spacelaunchnow-prod-east.nyc3.digitaloceanspaces.com/media/mission_patch_images/space2520x252_mission_patch_20221011205756.png)\\\\n\\\\nLaunch Countdown\\\\n\\\\n01\\\\n\\\\nhr\\\\n\\\\n38\\\\n\\\\nmin\\\\n\\\\n35\\\\n\\\\nsec\\\\n\\\\nDate & Time\\\\n\\\\n31 May, 8:10pm\\\\n\\\\nUTC\\\\n\\\\nLocation [...] Updated: May 31, 6:00pm UTC\\\\n\\\\n[Sirius SXM-10](https://rocketlaunch.org/mission-falcon-9-block-5-sirius-sxm-10)\\\\n\\\\n![Image 15: SpaceX logo](https://rocket-launch-today.s3.us-east-1.amazonaws.com/spacex_1c92ed2fc3.jpg)\\\\n[SpaceX](https://rocketlaunch.org/launch-providers/spacex)\\\\n\\\\nT-6 days\\\\n\\\\n7 Jun, 3:00am\\\\n\\\\nUTC\\\\n\\\\n[📍 Cape Canaveral Space Force Station](https://rocketlaunch.org/rocket-launch-sites/cape-canaveral)\\\\n\\\\n[🚀 Falcon 9 Block 5](https://rocketlaunch.org/launch-providers/spacex/falcon-9)\", \"score\": 0.8539252}]', name='tavily_search_results_json', id='9253d2a7-6fda-4e52-9a20-3e370ceae148', tool_call_id='call_h0av'),\n",
       "  AIMessage(content='According to the provided information, the next SpaceX launch is scheduled for May 31, 8:10pm UTC, with a Falcon 9 Block 5 rocket launching the Starlink Group 11-18 mission from Cape Canaveral Space Force Station.', additional_kwargs={}, response_metadata={'token_usage': {'completion_tokens': 53, 'prompt_tokens': 1735, 'total_tokens': 1788, 'completion_time': 0.23544112, 'prompt_time': 0.063807402, 'queue_time': 0.059141438000000005, 'total_time': 0.299248522}, 'model_name': 'llama3-70b-8192', 'system_fingerprint': 'fp_dd4ae1c591', 'finish_reason': 'stop', 'logprobs': None}, id='run--79d75340-7283-4767-91a5-4eba59dde915-0', usage_metadata={'input_tokens': 1735, 'output_tokens': 53, 'total_tokens': 1788})]}"
      ]
     },
     "execution_count": 72,
     "metadata": {},
     "output_type": "execute_result"
    }
   ],
   "source": [
    "config = {\n",
    "    \"configurable\": {\n",
    "        \"thread_id\": \"5\"\n",
    "    }\n",
    "}\n",
    "\n",
    "response = await graph.ainvoke({\n",
    "    \"messages\": [HumanMessage(content=\"When is the next spaceX launch?\")], \n",
    "}, config=config)\n",
    "\n",
    "response"
   ]
  },
  {
   "cell_type": "code",
   "execution_count": 78,
   "id": "a3aa560e",
   "metadata": {},
   "outputs": [
    {
     "name": "stdout",
     "output_type": "stream",
     "text": [
      "Here is an email about job openings at Aviato in AI Engineer:\n",
      "\n",
      "Subject: Exciting AI Engineer Job Opportunities at Aviato\n",
      "\n",
      "Dear [Recipient],\n",
      "\n",
      "I hope this email finds you about an incredible opportunity to take your AI engineering skills to new heights! Aviato, a pioneering company in the field of Artificial Intelligence, is currently seeking talented AI Engineers like you to join our innovative journey.\n",
      "\n",
      "As an AI Engineer at Aviato, you will be responsible for designing, developing, and deploying cutting-edge AI models that drive business growth and transform industries. Our team is dedicated to pushing the boundaries, and we're looking for passionate individuals who share our vision and are eager to contribute to the development of AI solutions that make a real impact.\n",
      "\n",
      "Some of the key responsibilities of an AI Engineer at Aviato include:\n",
      "\n",
      "* Developing and deploying AI models, including machine learning and deep learning models\n",
      "* Collaborating with cross-functional teams to integrate AI capabilities into our products and services\n",
      "* Designing and implementing AI-driven solutions that meet business requirements and exceed customer expectations\n",
      "* Staying up-to-date with the latest advancements in AI and machine learning, and applying this knowledge to drive innovation\n",
      "\n",
      "If you're a motivated and creative AI enthusiast with a strong background in computer science, mathematics, or a related discipline, we encourage you to apply for this exciting opportunity. Our ideal candidate should possess:\n",
      "\n",
      "* A Bachelor's or Master's degree in Computer Science, AI, Machine Learning, or a related field\n",
      "* Proficiency in programming languages such as Python, Java, or C++\n",
      "* Experience with AI frameworks and libraries, including TensorFlow, PyTorch, or Keras\n",
      "* Strong understanding of machine learning concepts, including supervised and unsupervised learning, neural networks, and deep learning\n",
      "* Excellent problem-solving skills, with the ability to work independently and collaboratively as part of a team\n",
      "\n",
      "At Aviato, we offer a dynamic work environment that fosters innovation, creativity, and growth. Our benefits package includes competitive salaries, flexible working hours, and opportunities for professional development and career advancement.\n",
      "\n",
      "If you're ready to take your AI engineering skills to the next level, please submit your resume and a cover letter explaining why you're the perfect fit for this role.\n",
      "\n",
      "We look forward to hearing from you soon!\n",
      "\n",
      "Best regards,\n",
      "\n",
      "[Your Name]\n",
      "Talent Acquisition Team\n",
      "Aviato"
     ]
    }
   ],
   "source": [
    "config = {\n",
    "    \"configurable\":{\n",
    "        \"thread_id\":\"6\"\n",
    "    }\n",
    "}\n",
    "\n",
    "\n",
    "async for event in graph.astream_events({\n",
    "    \"messages\":[HumanMessage(content=\"write me an email about job openings at aviato in AI engineer.\")]\n",
    "},config=config,version=\"v2\"):\n",
    "    if event[\"event\"] == \"on_chat_model_stream\":\n",
    "        print(event[\"data\"][\"chunk\"].content,end=\"\",flush=True)\n",
    "    # print(event)"
   ]
  },
  {
   "cell_type": "code",
   "execution_count": null,
   "id": "ebc51e6d",
   "metadata": {},
   "outputs": [],
   "source": []
  }
 ],
 "metadata": {
  "kernelspec": {
   "display_name": "PRenv",
   "language": "python",
   "name": "python3"
  },
  "language_info": {
   "codemirror_mode": {
    "name": "ipython",
    "version": 3
   },
   "file_extension": ".py",
   "mimetype": "text/x-python",
   "name": "python",
   "nbconvert_exporter": "python",
   "pygments_lexer": "ipython3",
   "version": "3.13.1"
  }
 },
 "nbformat": 4,
 "nbformat_minor": 5
}
